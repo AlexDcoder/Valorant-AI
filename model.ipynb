{
 "cells": [
  {
   "cell_type": "code",
   "execution_count": 77,
   "id": "5258cb65",
   "metadata": {},
   "outputs": [],
   "source": [
    "import pandas as pd\n",
    "import numpy as np\n",
    "from sklearn.model_selection import train_test_split, cross_val_score\n",
    "from sklearn.ensemble import RandomForestClassifier, GradientBoostingClassifier\n",
    "from sklearn.linear_model import LogisticRegression\n",
    "from sklearn.preprocessing import LabelEncoder, StandardScaler\n",
    "from sklearn.metrics import (classification_report, confusion_matrix, \n",
    "                           accuracy_score, precision_score, recall_score, \n",
    "                           f1_score, roc_auc_score)\n",
    "import seaborn as sns\n",
    "import matplotlib.pyplot as plt"
   ]
  },
  {
   "cell_type": "code",
   "execution_count": 78,
   "id": "d4e1a3a0",
   "metadata": {},
   "outputs": [
    {
     "data": {
      "application/vnd.microsoft.datawrangler.viewer.v0+json": {
       "columns": [
        {
         "name": "index",
         "rawType": "int64",
         "type": "integer"
        },
        {
         "name": "team_a",
         "rawType": "object",
         "type": "string"
        },
        {
         "name": "team_b",
         "rawType": "object",
         "type": "string"
        },
        {
         "name": "map",
         "rawType": "object",
         "type": "string"
        },
        {
         "name": "team_a_wins",
         "rawType": "int64",
         "type": "integer"
        },
        {
         "name": "team_a_avg_rating",
         "rawType": "float64",
         "type": "float"
        },
        {
         "name": "team_a_avg_acs",
         "rawType": "float64",
         "type": "float"
        },
        {
         "name": "team_a_avg_kast",
         "rawType": "float64",
         "type": "float"
        },
        {
         "name": "team_a_avg_adr",
         "rawType": "float64",
         "type": "float"
        },
        {
         "name": "team_a_avg_hs",
         "rawType": "float64",
         "type": "float"
        },
        {
         "name": "team_a_avg_fk",
         "rawType": "float64",
         "type": "float"
        },
        {
         "name": "team_a_avg_fd",
         "rawType": "float64",
         "type": "float"
        },
        {
         "name": "team_a_win_rate",
         "rawType": "float64",
         "type": "float"
        },
        {
         "name": "team_a_fk_fd_ratio",
         "rawType": "float64",
         "type": "float"
        },
        {
         "name": "team_a_total_games",
         "rawType": "int64",
         "type": "integer"
        },
        {
         "name": "team_a_rating_consistency",
         "rawType": "float64",
         "type": "float"
        },
        {
         "name": "team_a_acs_consistency",
         "rawType": "float64",
         "type": "float"
        },
        {
         "name": "team_b_avg_rating",
         "rawType": "float64",
         "type": "float"
        },
        {
         "name": "team_b_avg_acs",
         "rawType": "float64",
         "type": "float"
        },
        {
         "name": "team_b_avg_kast",
         "rawType": "float64",
         "type": "float"
        },
        {
         "name": "team_b_avg_adr",
         "rawType": "float64",
         "type": "float"
        },
        {
         "name": "team_b_avg_hs",
         "rawType": "float64",
         "type": "float"
        },
        {
         "name": "team_b_avg_fk",
         "rawType": "float64",
         "type": "float"
        },
        {
         "name": "team_b_avg_fd",
         "rawType": "float64",
         "type": "float"
        },
        {
         "name": "team_b_win_rate",
         "rawType": "float64",
         "type": "float"
        },
        {
         "name": "team_b_fk_fd_ratio",
         "rawType": "float64",
         "type": "float"
        },
        {
         "name": "team_b_total_games",
         "rawType": "int64",
         "type": "integer"
        },
        {
         "name": "team_b_rating_consistency",
         "rawType": "float64",
         "type": "float"
        },
        {
         "name": "team_b_acs_consistency",
         "rawType": "float64",
         "type": "float"
        },
        {
         "name": "diff_avg_rating",
         "rawType": "float64",
         "type": "float"
        },
        {
         "name": "ratio_avg_rating",
         "rawType": "float64",
         "type": "float"
        },
        {
         "name": "diff_avg_acs",
         "rawType": "float64",
         "type": "float"
        },
        {
         "name": "ratio_avg_acs",
         "rawType": "float64",
         "type": "float"
        },
        {
         "name": "diff_avg_kast",
         "rawType": "float64",
         "type": "float"
        },
        {
         "name": "ratio_avg_kast",
         "rawType": "float64",
         "type": "float"
        },
        {
         "name": "diff_avg_adr",
         "rawType": "float64",
         "type": "float"
        },
        {
         "name": "ratio_avg_adr",
         "rawType": "float64",
         "type": "float"
        },
        {
         "name": "diff_avg_hs",
         "rawType": "float64",
         "type": "float"
        },
        {
         "name": "ratio_avg_hs",
         "rawType": "float64",
         "type": "float"
        },
        {
         "name": "diff_avg_fk",
         "rawType": "float64",
         "type": "float"
        },
        {
         "name": "ratio_avg_fk",
         "rawType": "float64",
         "type": "float"
        },
        {
         "name": "diff_avg_fd",
         "rawType": "float64",
         "type": "float"
        },
        {
         "name": "ratio_avg_fd",
         "rawType": "float64",
         "type": "float"
        },
        {
         "name": "diff_win_rate",
         "rawType": "float64",
         "type": "float"
        },
        {
         "name": "ratio_win_rate",
         "rawType": "float64",
         "type": "float"
        },
        {
         "name": "diff_fk_fd_ratio",
         "rawType": "float64",
         "type": "float"
        },
        {
         "name": "ratio_fk_fd_ratio",
         "rawType": "float64",
         "type": "float"
        },
        {
         "name": "diff_total_games",
         "rawType": "int64",
         "type": "integer"
        },
        {
         "name": "ratio_total_games",
         "rawType": "float64",
         "type": "float"
        },
        {
         "name": "diff_rating_consistency",
         "rawType": "float64",
         "type": "float"
        },
        {
         "name": "ratio_rating_consistency",
         "rawType": "float64",
         "type": "float"
        },
        {
         "name": "diff_acs_consistency",
         "rawType": "float64",
         "type": "float"
        },
        {
         "name": "ratio_acs_consistency",
         "rawType": "float64",
         "type": "float"
        },
        {
         "name": "team_a_map_wr",
         "rawType": "float64",
         "type": "float"
        },
        {
         "name": "team_b_map_wr",
         "rawType": "float64",
         "type": "float"
        },
        {
         "name": "team_a_map_games",
         "rawType": "int64",
         "type": "integer"
        },
        {
         "name": "team_b_map_games",
         "rawType": "int64",
         "type": "integer"
        },
        {
         "name": "diff_map_wr",
         "rawType": "float64",
         "type": "float"
        }
       ],
       "ref": "ccc86334-750f-4834-971e-ae460eeebc33",
       "rows": [
        [
         "0",
         "Akrew",
         "BASILISK",
         "Bind",
         "1",
         "6.011542857142857",
         "1142.1314285714286",
         "4.040857142857142",
         "747.5314285714286",
         "1.2598857142857145",
         "11.765714285714283",
         "9.897142857142857",
         "0.6971428571428572",
         "1.1887990762124712",
         "175",
         "2.9591422009793344",
         "3.3410704056122182",
         "5.29195219123506",
         "1082.5019920318723",
         "3.772549800796813",
         "699.0358565737051",
         "1.355617529880478",
         "11.06374501992032",
         "11.701195219123504",
         "0.4780876494023904",
         "0.9455226421518556",
         "251",
         "2.950157058589509",
         "3.25659736132355",
         "0.7195906659077966",
         "1.1357636796904678",
         "59.62943653955608",
         "1.0550838537892933",
         "0.2683073420603294",
         "1.070837104628614",
         "48.49557199772346",
         "1.0693734122052123",
         "-0.0957318155947635",
         "0.9286963248932176",
         "0.7019692657939665",
         "1.0633515968539702",
         "-1.8040523619806488",
         "0.8457509614067226",
         "0.2190552077404667",
         "1.455146794146054",
         "0.2432764340606155",
         "1.2559647527393707",
         "-76",
         "0.6972083776558659",
         "0.0089851423898252",
         "1.0027057666641577",
         "0.0844730442886683",
         "1.0256241134278037",
         "0.7333333333333333",
         "0.5263157894736842",
         "30",
         "38",
         "0.2070175438596491"
        ],
        [
         "1",
         "Akrew",
         "BASILISK",
         "Split",
         "1",
         "6.011542857142857",
         "1142.1314285714286",
         "4.040857142857142",
         "747.5314285714286",
         "1.2598857142857145",
         "11.765714285714283",
         "9.897142857142857",
         "0.6971428571428572",
         "1.1887990762124712",
         "175",
         "2.9591422009793344",
         "3.3410704056122182",
         "5.29195219123506",
         "1082.5019920318723",
         "3.772549800796813",
         "699.0358565737051",
         "1.355617529880478",
         "11.06374501992032",
         "11.701195219123504",
         "0.4780876494023904",
         "0.9455226421518556",
         "251",
         "2.950157058589509",
         "3.25659736132355",
         "0.7195906659077966",
         "1.1357636796904678",
         "59.62943653955608",
         "1.0550838537892933",
         "0.2683073420603294",
         "1.070837104628614",
         "48.49557199772346",
         "1.0693734122052123",
         "-0.0957318155947635",
         "0.9286963248932176",
         "0.7019692657939665",
         "1.0633515968539702",
         "-1.8040523619806488",
         "0.8457509614067226",
         "0.2190552077404667",
         "1.455146794146054",
         "0.2432764340606155",
         "1.2559647527393707",
         "-76",
         "0.6972083776558659",
         "0.0089851423898252",
         "1.0027057666641577",
         "0.0844730442886683",
         "1.0256241134278037",
         "0.85",
         "0.4347826086956521",
         "20",
         "23",
         "0.4152173913043478"
        ],
        [
         "2",
         "BASILISK",
         "Akrew",
         "Bind",
         "0",
         "5.29195219123506",
         "1082.5019920318723",
         "3.772549800796813",
         "699.0358565737051",
         "1.355617529880478",
         "11.06374501992032",
         "11.701195219123504",
         "0.4780876494023904",
         "0.9455226421518556",
         "251",
         "2.950157058589509",
         "3.25659736132355",
         "6.011542857142857",
         "1142.1314285714286",
         "4.040857142857142",
         "747.5314285714286",
         "1.2598857142857145",
         "11.765714285714283",
         "9.897142857142857",
         "0.6971428571428572",
         "1.1887990762124712",
         "175",
         "2.9591422009793344",
         "3.3410704056122182",
         "-0.7195906659077966",
         "0.8801520948741778",
         "-59.62943653955608",
         "0.947790260526845",
         "-0.2683073420603294",
         "0.9333703957013286",
         "-48.49557199772346",
         "0.9351244572888928",
         "0.0957318155947635",
         "1.075131167338531",
         "-0.7019692657939665",
         "0.940257811252592",
         "1.8040523619806488",
         "1.182160672764942",
         "-0.2190552077404667",
         "0.6847991704147193",
         "-0.2432764340606155",
         "0.7946910205727936",
         "76",
         "1.4342775184141805",
         "-0.0089851423898252",
         "0.9966268031358352",
         "-0.0844730442886683",
         "0.9744251215817786",
         "0.5263157894736842",
         "0.7333333333333333",
         "38",
         "30",
         "-0.2070175438596491"
        ],
        [
         "3",
         "BASILISK",
         "Akrew",
         "Split",
         "0",
         "5.29195219123506",
         "1082.5019920318723",
         "3.772549800796813",
         "699.0358565737051",
         "1.355617529880478",
         "11.06374501992032",
         "11.701195219123504",
         "0.4780876494023904",
         "0.9455226421518556",
         "251",
         "2.950157058589509",
         "3.25659736132355",
         "6.011542857142857",
         "1142.1314285714286",
         "4.040857142857142",
         "747.5314285714286",
         "1.2598857142857145",
         "11.765714285714283",
         "9.897142857142857",
         "0.6971428571428572",
         "1.1887990762124712",
         "175",
         "2.9591422009793344",
         "3.3410704056122182",
         "-0.7195906659077966",
         "0.8801520948741778",
         "-59.62943653955608",
         "0.947790260526845",
         "-0.2683073420603294",
         "0.9333703957013286",
         "-48.49557199772346",
         "0.9351244572888928",
         "0.0957318155947635",
         "1.075131167338531",
         "-0.7019692657939665",
         "0.940257811252592",
         "1.8040523619806488",
         "1.182160672764942",
         "-0.2190552077404667",
         "0.6847991704147193",
         "-0.2432764340606155",
         "0.7946910205727936",
         "76",
         "1.4342775184141805",
         "-0.0089851423898252",
         "0.9966268031358352",
         "-0.0844730442886683",
         "0.9744251215817786",
         "0.4347826086956521",
         "0.85",
         "23",
         "20",
         "-0.4152173913043478"
        ],
        [
         "4",
         "Akrew",
         "Built By Gamers Academy",
         "Haven",
         "1",
         "6.011542857142857",
         "1142.1314285714286",
         "4.040857142857142",
         "747.5314285714286",
         "1.2598857142857145",
         "11.765714285714283",
         "9.897142857142857",
         "0.6971428571428572",
         "1.1887990762124712",
         "175",
         "2.9591422009793344",
         "3.3410704056122182",
         "5.354408602150538",
         "1067.967741935484",
         "3.712741935483871",
         "699.7204301075269",
         "1.473387096774193",
         "11.198924731182796",
         "10.43010752688172",
         "0.5752688172043011",
         "1.0737113402061855",
         "186",
         "3.0267181973036563",
         "3.904055534256735",
         "0.6571342549923189",
         "1.1225180567415227",
         "74.16368663594471",
         "1.0694427502639632",
         "0.3281152073732714",
         "1.0880823743426455",
         "47.81099846390168",
         "1.068327189088027",
         "-0.2135013824884788",
         "0.8545148808221493",
         "0.5667895545314892",
         "1.0505172640094822",
         "-0.5329646697388633",
         "0.948810357062968",
         "0.121874039938556",
         "1.209752872843202",
         "0.1150877360062856",
         "1.1061566317746288",
         "-11",
         "0.940855156692706",
         "-0.0675759963243218",
         "0.977350601391704",
         "-0.5629851286445167",
         "0.855575644521055",
         "0.7209302325581395",
         "0.5555555555555556",
         "43",
         "36",
         "0.1653746770025839"
        ]
       ],
       "shape": {
        "columns": 57,
        "rows": 5
       }
      },
      "text/html": [
       "<div>\n",
       "<style scoped>\n",
       "    .dataframe tbody tr th:only-of-type {\n",
       "        vertical-align: middle;\n",
       "    }\n",
       "\n",
       "    .dataframe tbody tr th {\n",
       "        vertical-align: top;\n",
       "    }\n",
       "\n",
       "    .dataframe thead th {\n",
       "        text-align: right;\n",
       "    }\n",
       "</style>\n",
       "<table border=\"1\" class=\"dataframe\">\n",
       "  <thead>\n",
       "    <tr style=\"text-align: right;\">\n",
       "      <th></th>\n",
       "      <th>team_a</th>\n",
       "      <th>team_b</th>\n",
       "      <th>map</th>\n",
       "      <th>team_a_wins</th>\n",
       "      <th>team_a_avg_rating</th>\n",
       "      <th>team_a_avg_acs</th>\n",
       "      <th>team_a_avg_kast</th>\n",
       "      <th>team_a_avg_adr</th>\n",
       "      <th>team_a_avg_hs</th>\n",
       "      <th>team_a_avg_fk</th>\n",
       "      <th>...</th>\n",
       "      <th>ratio_total_games</th>\n",
       "      <th>diff_rating_consistency</th>\n",
       "      <th>ratio_rating_consistency</th>\n",
       "      <th>diff_acs_consistency</th>\n",
       "      <th>ratio_acs_consistency</th>\n",
       "      <th>team_a_map_wr</th>\n",
       "      <th>team_b_map_wr</th>\n",
       "      <th>team_a_map_games</th>\n",
       "      <th>team_b_map_games</th>\n",
       "      <th>diff_map_wr</th>\n",
       "    </tr>\n",
       "  </thead>\n",
       "  <tbody>\n",
       "    <tr>\n",
       "      <th>0</th>\n",
       "      <td>Akrew</td>\n",
       "      <td>BASILISK</td>\n",
       "      <td>Bind</td>\n",
       "      <td>1</td>\n",
       "      <td>6.011543</td>\n",
       "      <td>1142.131429</td>\n",
       "      <td>4.040857</td>\n",
       "      <td>747.531429</td>\n",
       "      <td>1.259886</td>\n",
       "      <td>11.765714</td>\n",
       "      <td>...</td>\n",
       "      <td>0.697208</td>\n",
       "      <td>0.008985</td>\n",
       "      <td>1.002706</td>\n",
       "      <td>0.084473</td>\n",
       "      <td>1.025624</td>\n",
       "      <td>0.733333</td>\n",
       "      <td>0.526316</td>\n",
       "      <td>30</td>\n",
       "      <td>38</td>\n",
       "      <td>0.207018</td>\n",
       "    </tr>\n",
       "    <tr>\n",
       "      <th>1</th>\n",
       "      <td>Akrew</td>\n",
       "      <td>BASILISK</td>\n",
       "      <td>Split</td>\n",
       "      <td>1</td>\n",
       "      <td>6.011543</td>\n",
       "      <td>1142.131429</td>\n",
       "      <td>4.040857</td>\n",
       "      <td>747.531429</td>\n",
       "      <td>1.259886</td>\n",
       "      <td>11.765714</td>\n",
       "      <td>...</td>\n",
       "      <td>0.697208</td>\n",
       "      <td>0.008985</td>\n",
       "      <td>1.002706</td>\n",
       "      <td>0.084473</td>\n",
       "      <td>1.025624</td>\n",
       "      <td>0.850000</td>\n",
       "      <td>0.434783</td>\n",
       "      <td>20</td>\n",
       "      <td>23</td>\n",
       "      <td>0.415217</td>\n",
       "    </tr>\n",
       "    <tr>\n",
       "      <th>2</th>\n",
       "      <td>BASILISK</td>\n",
       "      <td>Akrew</td>\n",
       "      <td>Bind</td>\n",
       "      <td>0</td>\n",
       "      <td>5.291952</td>\n",
       "      <td>1082.501992</td>\n",
       "      <td>3.772550</td>\n",
       "      <td>699.035857</td>\n",
       "      <td>1.355618</td>\n",
       "      <td>11.063745</td>\n",
       "      <td>...</td>\n",
       "      <td>1.434278</td>\n",
       "      <td>-0.008985</td>\n",
       "      <td>0.996627</td>\n",
       "      <td>-0.084473</td>\n",
       "      <td>0.974425</td>\n",
       "      <td>0.526316</td>\n",
       "      <td>0.733333</td>\n",
       "      <td>38</td>\n",
       "      <td>30</td>\n",
       "      <td>-0.207018</td>\n",
       "    </tr>\n",
       "    <tr>\n",
       "      <th>3</th>\n",
       "      <td>BASILISK</td>\n",
       "      <td>Akrew</td>\n",
       "      <td>Split</td>\n",
       "      <td>0</td>\n",
       "      <td>5.291952</td>\n",
       "      <td>1082.501992</td>\n",
       "      <td>3.772550</td>\n",
       "      <td>699.035857</td>\n",
       "      <td>1.355618</td>\n",
       "      <td>11.063745</td>\n",
       "      <td>...</td>\n",
       "      <td>1.434278</td>\n",
       "      <td>-0.008985</td>\n",
       "      <td>0.996627</td>\n",
       "      <td>-0.084473</td>\n",
       "      <td>0.974425</td>\n",
       "      <td>0.434783</td>\n",
       "      <td>0.850000</td>\n",
       "      <td>23</td>\n",
       "      <td>20</td>\n",
       "      <td>-0.415217</td>\n",
       "    </tr>\n",
       "    <tr>\n",
       "      <th>4</th>\n",
       "      <td>Akrew</td>\n",
       "      <td>Built By Gamers Academy</td>\n",
       "      <td>Haven</td>\n",
       "      <td>1</td>\n",
       "      <td>6.011543</td>\n",
       "      <td>1142.131429</td>\n",
       "      <td>4.040857</td>\n",
       "      <td>747.531429</td>\n",
       "      <td>1.259886</td>\n",
       "      <td>11.765714</td>\n",
       "      <td>...</td>\n",
       "      <td>0.940855</td>\n",
       "      <td>-0.067576</td>\n",
       "      <td>0.977351</td>\n",
       "      <td>-0.562985</td>\n",
       "      <td>0.855576</td>\n",
       "      <td>0.720930</td>\n",
       "      <td>0.555556</td>\n",
       "      <td>43</td>\n",
       "      <td>36</td>\n",
       "      <td>0.165375</td>\n",
       "    </tr>\n",
       "  </tbody>\n",
       "</table>\n",
       "<p>5 rows × 57 columns</p>\n",
       "</div>"
      ],
      "text/plain": [
       "     team_a                   team_b    map  team_a_wins  team_a_avg_rating  \\\n",
       "0     Akrew                 BASILISK   Bind            1           6.011543   \n",
       "1     Akrew                 BASILISK  Split            1           6.011543   \n",
       "2  BASILISK                    Akrew   Bind            0           5.291952   \n",
       "3  BASILISK                    Akrew  Split            0           5.291952   \n",
       "4     Akrew  Built By Gamers Academy  Haven            1           6.011543   \n",
       "\n",
       "   team_a_avg_acs  team_a_avg_kast  team_a_avg_adr  team_a_avg_hs  \\\n",
       "0     1142.131429         4.040857      747.531429       1.259886   \n",
       "1     1142.131429         4.040857      747.531429       1.259886   \n",
       "2     1082.501992         3.772550      699.035857       1.355618   \n",
       "3     1082.501992         3.772550      699.035857       1.355618   \n",
       "4     1142.131429         4.040857      747.531429       1.259886   \n",
       "\n",
       "   team_a_avg_fk  ...  ratio_total_games  diff_rating_consistency  \\\n",
       "0      11.765714  ...           0.697208                 0.008985   \n",
       "1      11.765714  ...           0.697208                 0.008985   \n",
       "2      11.063745  ...           1.434278                -0.008985   \n",
       "3      11.063745  ...           1.434278                -0.008985   \n",
       "4      11.765714  ...           0.940855                -0.067576   \n",
       "\n",
       "   ratio_rating_consistency  diff_acs_consistency  ratio_acs_consistency  \\\n",
       "0                  1.002706              0.084473               1.025624   \n",
       "1                  1.002706              0.084473               1.025624   \n",
       "2                  0.996627             -0.084473               0.974425   \n",
       "3                  0.996627             -0.084473               0.974425   \n",
       "4                  0.977351             -0.562985               0.855576   \n",
       "\n",
       "   team_a_map_wr  team_b_map_wr  team_a_map_games  team_b_map_games  \\\n",
       "0       0.733333       0.526316                30                38   \n",
       "1       0.850000       0.434783                20                23   \n",
       "2       0.526316       0.733333                38                30   \n",
       "3       0.434783       0.850000                23                20   \n",
       "4       0.720930       0.555556                43                36   \n",
       "\n",
       "   diff_map_wr  \n",
       "0     0.207018  \n",
       "1     0.415217  \n",
       "2    -0.207018  \n",
       "3    -0.415217  \n",
       "4     0.165375  \n",
       "\n",
       "[5 rows x 57 columns]"
      ]
     },
     "execution_count": 78,
     "metadata": {},
     "output_type": "execute_result"
    }
   ],
   "source": [
    "df_data = pd.read_csv('dados_limpos.csv')\n",
    "df_data.head()"
   ]
  },
  {
   "cell_type": "code",
   "execution_count": 79,
   "id": "ae0d218e",
   "metadata": {},
   "outputs": [
    {
     "data": {
      "text/plain": [
       "(2422, 57)"
      ]
     },
     "execution_count": 79,
     "metadata": {},
     "output_type": "execute_result"
    }
   ],
   "source": [
    "df_data.shape"
   ]
  },
  {
   "cell_type": "code",
   "execution_count": 82,
   "id": "1a3e050e",
   "metadata": {},
   "outputs": [
    {
     "name": "stdout",
     "output_type": "stream",
     "text": [
      "\n",
      "Features selecionadas: 54\n",
      "Tamanho do conjunto de treino: (1937, 54)\n",
      "Tamanho do conjunto de teste: (485, 54)\n"
     ]
    }
   ],
   "source": [
    "# Preparar features para modelagem\n",
    "le_map = LabelEncoder()\n",
    "df_data['map_encoded'] = le_map.fit_transform(df_data['map'])\n",
    "\n",
    "# Selecionar features numéricas para o modelo\n",
    "feature_columns = [col for col in df_data.columns \n",
    "                  if col.startswith(('team_a_', 'team_b_', 'diff_', 'ratio_', 'map_encoded')) \n",
    "                  and not col.endswith('_wins')]\n",
    "\n",
    "X = df_data[feature_columns]\n",
    "y = df_data['team_a_wins']\n",
    "\n",
    "print(f\"\\nFeatures selecionadas: {len(feature_columns)}\")\n",
    "\n",
    "# Tratar valores infinitos e NaN\n",
    "X = X.replace([np.inf, -np.inf], np.nan)\n",
    "X = X.fillna(0)\n",
    "\n",
    "# Dividir dados\n",
    "X_train, X_test, y_train, y_test = train_test_split(X, y, test_size=0.2, random_state=42, stratify=y)\n",
    "\n",
    "# Normalizar features\n",
    "scaler = StandardScaler()\n",
    "X_train_scaled = scaler.fit_transform(X_train)\n",
    "X_test_scaled = scaler.transform(X_test)\n",
    "\n",
    "print(f\"Tamanho do conjunto de treino: {X_train.shape}\")\n",
    "print(f\"Tamanho do conjunto de teste: {X_test.shape}\")"
   ]
  },
  {
   "cell_type": "code",
   "execution_count": 83,
   "id": "0aae260d",
   "metadata": {},
   "outputs": [
    {
     "name": "stdout",
     "output_type": "stream",
     "text": [
      "\n",
      "=== TREINANDO E AVALIANDO MODELOS ===\n",
      "\n",
      "--- Random Forest ---\n",
      "Acurácia: 0.5814\n",
      "Precisão: 0.5844\n",
      "Recall: 0.5579\n",
      "F1-Score: 0.5708\n",
      "AUC-ROC: 0.6144\n",
      "CV Accuracy: 0.5715 (±0.0336)\n"
     ]
    },
    {
     "data": {
      "image/png": "[encoded data removed]",
      "text/plain": [
       "<Figure size 640x480 with 2 Axes>"
      ]
     },
     "metadata": {},
     "output_type": "display_data"
    },
    {
     "name": "stdout",
     "output_type": "stream",
     "text": [
      "\n",
      "--- Gradient Boosting ---\n",
      "Acurácia: 0.5711\n",
      "Precisão: 0.5746\n",
      "Recall: 0.5413\n",
      "F1-Score: 0.5574\n",
      "AUC-ROC: 0.5988\n",
      "CV Accuracy: 0.5524 (±0.0463)\n"
     ]
    },
    {
     "data": {
      "image/png": "[encoded data removed]",
      "text/plain": [
       "<Figure size 640x480 with 2 Axes>"
      ]
     },
     "metadata": {},
     "output_type": "display_data"
    },
    {
     "name": "stdout",
     "output_type": "stream",
     "text": [
      "\n",
      "--- Logistic Regression ---\n",
      "Acurácia: 0.6474\n",
      "Precisão: 0.6621\n",
      "Recall: 0.5992\n",
      "F1-Score: 0.6291\n",
      "AUC-ROC: 0.6948\n",
      "CV Accuracy: 0.6231 (±0.0564)\n"
     ]
    },
    {
     "data": {
      "image/png": "[encoded data removed]",
      "text/plain": [
       "<Figure size 640x480 with 2 Axes>"
      ]
     },
     "metadata": {},
     "output_type": "display_data"
    }
   ],
   "source": [
    "models = {\n",
    "    'Random Forest': RandomForestClassifier(n_estimators=100, random_state=42, max_depth=10),\n",
    "    'Gradient Boosting': GradientBoostingClassifier(n_estimators=100, random_state=42, max_depth=6),\n",
    "    'Logistic Regression': LogisticRegression(random_state=42, max_iter=1000)\n",
    "}\n",
    "\n",
    "results = {}\n",
    "\n",
    "print(\"\\n=== TREINANDO E AVALIANDO MODELOS ===\")\n",
    "\n",
    "for name, model in models.items():\n",
    "    print(f\"\\n--- {name} ---\")\n",
    "    \n",
    "    if name == 'Logistic Regression':\n",
    "        model.fit(X_train_scaled, y_train)\n",
    "        y_pred = model.predict(X_test_scaled)\n",
    "        y_pred_proba = model.predict_proba(X_test_scaled)[:, 1]\n",
    "        cv_scores = cross_val_score(model, X_train_scaled, y_train, cv=5, scoring='accuracy')\n",
    "    else:\n",
    "        model.fit(X_train, y_train)\n",
    "        y_pred = model.predict(X_test)\n",
    "        y_pred_proba = model.predict_proba(X_test)[:, 1]\n",
    "        cv_scores = cross_val_score(model, X_train, y_train, cv=5, scoring='accuracy')\n",
    "    \n",
    "    # Métricas\n",
    "    accuracy = accuracy_score(y_test, y_pred)\n",
    "    precision = precision_score(y_test, y_pred)\n",
    "    recall = recall_score(y_test, y_pred)\n",
    "    f1 = f1_score(y_test, y_pred)\n",
    "    auc = roc_auc_score(y_test, y_pred_proba)\n",
    "    \n",
    "    results[name] = {\n",
    "        'model': model,\n",
    "        'predictions': y_pred,\n",
    "        'probabilities': y_pred_proba,\n",
    "        'accuracy': accuracy,\n",
    "        'precision': precision,\n",
    "        'recall': recall,\n",
    "        'f1': f1,\n",
    "        'auc': auc\n",
    "    }\n",
    "    \n",
    "    print(f\"Acurácia: {accuracy:.4f}\")\n",
    "    print(f\"Precisão: {precision:.4f}\")\n",
    "    print(f\"Recall: {recall:.4f}\")\n",
    "    print(f\"F1-Score: {f1:.4f}\")\n",
    "    print(f\"AUC-ROC: {auc:.4f}\")\n",
    "    print(f\"CV Accuracy: {cv_scores.mean():.4f} (±{cv_scores.std() * 2:.4f})\")\n",
    "    sns.heatmap(confusion_matrix(y_test, y_pred), cmap='coolwarm', annot=True, linewidth=1, fmt='d')\n",
    "    plt.show()"
   ]
  },
  {
   "cell_type": "code",
   "execution_count": null,
   "id": "c534e355",
   "metadata": {},
   "outputs": [],
   "source": []
  }
 ],
 "metadata": {
  "kernelspec": {
   "display_name": "venv",
   "language": "python",
   "name": "python3"
  },
  "language_info": {
   "codemirror_mode": {
    "name": "ipython",
    "version": 3
   },
   "file_extension": ".py",
   "mimetype": "text/x-python",
   "name": "python",
   "nbconvert_exporter": "python",
   "pygments_lexer": "ipython3",
   "version": "3.13.3"
  }
 },
 "nbformat": 4,
 "nbformat_minor": 5
}
